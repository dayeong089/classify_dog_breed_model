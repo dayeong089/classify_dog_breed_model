{
  "nbformat": 4,
  "nbformat_minor": 0,
  "metadata": {
    "colab": {
      "name": "final_assign.ipynb",
      "provenance": [],
      "collapsed_sections": []
    },
    "kernelspec": {
      "name": "python3",
      "display_name": "Python 3"
    },
    "language_info": {
      "name": "python"
    }
  },
  "cells": [
    {
      "cell_type": "code",
      "metadata": {
        "colab": {
          "base_uri": "https://localhost:8080/"
        },
        "id": "KFxGHs7ZCgr0",
        "outputId": "f136a5c1-9748-4887-e180-437423e3f63e"
      },
      "source": [
        "from google.colab import drive \n",
        "import os, glob\n",
        "drive.mount('/content/drive') "
      ],
      "execution_count": 1,
      "outputs": [
        {
          "output_type": "stream",
          "text": [
            "Drive already mounted at /content/drive; to attempt to forcibly remount, call drive.mount(\"/content/drive\", force_remount=True).\n"
          ],
          "name": "stdout"
        }
      ]
    },
    {
      "cell_type": "code",
      "metadata": {
        "colab": {
          "base_uri": "https://localhost:8080/"
        },
        "id": "T3GbJoeECmGk",
        "outputId": "c04048d2-e229-4d03-8762-a84328f3949b"
      },
      "source": [
        "img_dir = './drive/MyDrive/Dog_breeds_Dataset'\n",
        "categories = os.listdir(img_dir)\n",
        "nb_classes =  len(categories)\n",
        "print(nb_classes)\n",
        "print(categories[3])"
      ],
      "execution_count": 2,
      "outputs": [
        {
          "output_type": "stream",
          "text": [
            "25\n",
            "Blenheim_spaniel\n"
          ],
          "name": "stdout"
        }
      ]
    },
    {
      "cell_type": "code",
      "metadata": {
        "id": "fY8JukYOCmIi"
      },
      "source": [
        "from PIL import Image\n",
        "import numpy as np\n",
        "from sklearn.model_selection import train_test_split\n",
        "from keras.models import Sequential\n",
        "from keras.layers import Convolution2D, MaxPooling2D\n",
        "from keras.layers import Activation, Dropout, Flatten, Dense\n",
        "from keras.preprocessing.image import ImageDataGenerator, array_to_img, img_to_array, load_img\n",
        "\n",
        "datagen = ImageDataGenerator(\n",
        "        rotation_range=40,\n",
        "        horizontal_flip=True,\n",
        "        fill_mode='nearest')\n",
        "\n",
        "img_dir = './drive/MyDrive/Dog_breeds_Dataset'\n",
        "categories = os.listdir(img_dir)\n",
        "nb_classes =  len(categories)\n",
        "\n",
        "for idx, cat in enumerate(categories):\n",
        "    \n",
        "    label = [0 for i in range(nb_classes)]\n",
        "    label[idx] = 1 \n",
        "   \n",
        "    image_dir = img_dir + \"/\" + cat\n",
        "    files = glob.glob(image_dir+\"/*.jpg\")\n",
        "    for i, f in enumerate(files):\n",
        "        img = Image.open(f)  \n",
        "        x = img_to_array(img) \n",
        "        x = x.reshape((1,) + x.shape)  \n",
        "\n",
        "        i = 0\n",
        "        for batch in datagen.flow(x, batch_size=1,\n",
        "                                  save_to_dir=img_dir + \"/\" + categories[idx], save_prefix='aug', save_format='jpg'):\n",
        "            i += 1\n",
        "            if i > 3:\n",
        "                break  "
      ],
      "execution_count": 4,
      "outputs": []
    },
    {
      "cell_type": "code",
      "metadata": {
        "colab": {
          "base_uri": "https://localhost:8080/"
        },
        "id": "Cc7UCnisCmK0",
        "outputId": "9a04a307-f765-4ddf-ab2b-c7719aa55978"
      },
      "source": [
        "img_dir = './drive/MyDrive/Dog_breeds_Dataset'\n",
        "categories = os.listdir(img_dir)\n",
        "nb_classes =  len(categories)\n",
        "\n",
        "image_w = 128 \n",
        "image_h = 128\n",
        "pixels = image_w * image_h * 3\n",
        "\n",
        "X = []\n",
        "Y = []\n",
        "for idx, cat in enumerate(categories):\n",
        "    label = [0 for i in range(nb_classes)]\n",
        "    label[idx] = 1 \n",
        "    image_dir = img_dir + \"/\" + cat\n",
        "    files = glob.glob(image_dir+\"/*.jpg\")\n",
        "    for i, f in enumerate(files):\n",
        "        img = Image.open(f) \n",
        "        img = img.convert(\"RGB\")\n",
        "        img = img.resize((image_w, image_h))\n",
        "        data = np.asarray(img)\n",
        "        X.append(data)\n",
        "        Y.append(label)\n",
        "\n",
        "X = np.array(X)\n",
        "Y = np.array(Y)\n",
        "\n",
        "X_train, X_test, y_train, y_test = \\\n",
        "    train_test_split(X, Y, test_size=0.3, shuffle=True,)\n",
        "xy = (X_train, X_test, y_train, y_test)\n",
        "np.save(\".data.npy\", xy)\n",
        "print(\"ok,\", len(Y))\n",
        "X_train = X_train.astype(\"float\") / 256\n",
        "X_test  = X_test.astype(\"float\")  / 256"
      ],
      "execution_count": 5,
      "outputs": [
        {
          "output_type": "stream",
          "text": [
            "/usr/local/lib/python3.7/dist-packages/numpy/core/_asarray.py:136: VisibleDeprecationWarning: Creating an ndarray from ragged nested sequences (which is a list-or-tuple of lists-or-tuples-or ndarrays with different lengths or shapes) is deprecated. If you meant to do this, you must specify 'dtype=object' when creating the ndarray\n",
            "  return array(a, dtype, copy=False, order=order, subok=True)\n"
          ],
          "name": "stderr"
        },
        {
          "output_type": "stream",
          "text": [
            "ok, 15873\n"
          ],
          "name": "stdout"
        }
      ]
    },
    {
      "cell_type": "code",
      "metadata": {
        "colab": {
          "base_uri": "https://localhost:8080/"
        },
        "id": "zaKn4X3xCmNN",
        "outputId": "958080f8-9869-48b1-d677-81ca92abf9bc"
      },
      "source": [
        "print('X_train shape:', X_train.shape)\n",
        "print('X_test shape', X_test.shape)"
      ],
      "execution_count": 6,
      "outputs": [
        {
          "output_type": "stream",
          "text": [
            "X_train shape: (11111, 128, 128, 3)\n",
            "X_test shape (4762, 128, 128, 3)\n"
          ],
          "name": "stdout"
        }
      ]
    },
    {
      "cell_type": "code",
      "metadata": {
        "colab": {
          "base_uri": "https://localhost:8080/"
        },
        "id": "nMcSRuODDMRg",
        "outputId": "245a5f69-cd0c-4197-c827-392233753303"
      },
      "source": [
        "model = Sequential()\n",
        "model.add(Convolution2D(32, (3, 3), padding='same', input_shape=X_train.shape[1:]))\n",
        "model.add(Activation('relu'))\n",
        "model.add(MaxPooling2D(pool_size=(2, 2)))\n",
        "model.add(Dropout(0.25))\n",
        "\n",
        "model.add(Convolution2D(64, (3, 3), padding='same', data_format='channels_last'))\n",
        "model.add(Activation('relu'))\n",
        "model.add(Convolution2D(64, 3, 3))\n",
        "model.add(MaxPooling2D(pool_size=(2, 2)))\n",
        "model.add(Dropout(0.25))\n",
        "\n",
        "model.add(Flatten()) \n",
        "model.add(Dense(512))\n",
        "model.add(Activation('relu'))\n",
        "model.add(Dropout(0.5))\n",
        "model.add(Dense(nb_classes))\n",
        "model.add(Activation('softmax'))\n",
        "\n",
        "model.compile(loss='binary_crossentropy',\n",
        "    optimizer='rmsprop',\n",
        "    metrics=['accuracy'])\n",
        "\n",
        "results = model.fit(X_train, y_train, batch_size=16, epochs=20, validation_data=(X_test, y_test))\n",
        "\n",
        "score = model.evaluate(X_test, y_test)\n",
        "print('loss=', score[0])\n",
        "print('accuracy=', score[1])"
      ],
      "execution_count": 7,
      "outputs": [
        {
          "output_type": "stream",
          "text": [
            "Epoch 1/20\n",
            "695/695 [==============================] - 319s 436ms/step - loss: 0.1854 - accuracy: 0.0889 - val_loss: 0.1396 - val_accuracy: 0.2654\n",
            "Epoch 2/20\n",
            "695/695 [==============================] - 302s 434ms/step - loss: 0.1321 - accuracy: 0.3178 - val_loss: 0.1284 - val_accuracy: 0.3562\n",
            "Epoch 3/20\n",
            "695/695 [==============================] - 301s 434ms/step - loss: 0.1169 - accuracy: 0.4227 - val_loss: 0.1378 - val_accuracy: 0.3620\n",
            "Epoch 4/20\n",
            "695/695 [==============================] - 302s 434ms/step - loss: 0.1084 - accuracy: 0.4957 - val_loss: 0.1163 - val_accuracy: 0.4691\n",
            "Epoch 5/20\n",
            "695/695 [==============================] - 302s 434ms/step - loss: 0.1019 - accuracy: 0.5499 - val_loss: 0.1137 - val_accuracy: 0.4996\n",
            "Epoch 6/20\n",
            "695/695 [==============================] - 305s 439ms/step - loss: 0.0935 - accuracy: 0.5980 - val_loss: 0.1131 - val_accuracy: 0.5052\n",
            "Epoch 7/20\n",
            "695/695 [==============================] - 301s 434ms/step - loss: 0.0898 - accuracy: 0.6325 - val_loss: 0.1251 - val_accuracy: 0.4809\n",
            "Epoch 8/20\n",
            "695/695 [==============================] - 300s 432ms/step - loss: 0.0852 - accuracy: 0.6638 - val_loss: 0.1121 - val_accuracy: 0.5519\n",
            "Epoch 9/20\n",
            "695/695 [==============================] - 301s 433ms/step - loss: 0.0808 - accuracy: 0.6868 - val_loss: 0.1133 - val_accuracy: 0.5447\n",
            "Epoch 10/20\n",
            "695/695 [==============================] - 301s 433ms/step - loss: 0.0777 - accuracy: 0.7100 - val_loss: 0.1108 - val_accuracy: 0.5456\n",
            "Epoch 11/20\n",
            "695/695 [==============================] - 301s 433ms/step - loss: 0.0780 - accuracy: 0.7097 - val_loss: 0.1250 - val_accuracy: 0.5445\n",
            "Epoch 12/20\n",
            "695/695 [==============================] - 302s 434ms/step - loss: 0.0751 - accuracy: 0.7220 - val_loss: 0.1247 - val_accuracy: 0.5506\n",
            "Epoch 13/20\n",
            "695/695 [==============================] - 301s 433ms/step - loss: 0.0707 - accuracy: 0.7477 - val_loss: 0.1099 - val_accuracy: 0.5718\n",
            "Epoch 14/20\n",
            "695/695 [==============================] - 301s 433ms/step - loss: 0.0707 - accuracy: 0.7491 - val_loss: 0.1238 - val_accuracy: 0.5855\n",
            "Epoch 15/20\n",
            "695/695 [==============================] - 301s 433ms/step - loss: 0.0708 - accuracy: 0.7539 - val_loss: 0.1286 - val_accuracy: 0.5703\n",
            "Epoch 16/20\n",
            "695/695 [==============================] - 300s 432ms/step - loss: 0.0696 - accuracy: 0.7538 - val_loss: 0.1348 - val_accuracy: 0.5613\n",
            "Epoch 17/20\n",
            "695/695 [==============================] - 301s 433ms/step - loss: 0.0675 - accuracy: 0.7697 - val_loss: 0.1138 - val_accuracy: 0.5577\n",
            "Epoch 18/20\n",
            "695/695 [==============================] - 300s 432ms/step - loss: 0.0678 - accuracy: 0.7625 - val_loss: 0.1304 - val_accuracy: 0.5342\n",
            "Epoch 19/20\n",
            "695/695 [==============================] - 300s 432ms/step - loss: 0.0659 - accuracy: 0.7775 - val_loss: 0.1191 - val_accuracy: 0.5926\n",
            "Epoch 20/20\n",
            "695/695 [==============================] - 300s 432ms/step - loss: 0.0660 - accuracy: 0.7782 - val_loss: 0.1238 - val_accuracy: 0.5695\n",
            "149/149 [==============================] - 28s 188ms/step - loss: 0.1238 - accuracy: 0.5695\n",
            "loss= 0.12377282232046127\n",
            "accuracy= 0.5695086121559143\n"
          ],
          "name": "stdout"
        }
      ]
    },
    {
      "cell_type": "code",
      "metadata": {
        "colab": {
          "base_uri": "https://localhost:8080/"
        },
        "id": "xWwFjbRZDMVp",
        "outputId": "be1532c8-cf8b-492e-cd0b-81bd7f943e53"
      },
      "source": [
        "model.summary()"
      ],
      "execution_count": 8,
      "outputs": [
        {
          "output_type": "stream",
          "text": [
            "Model: \"sequential\"\n",
            "_________________________________________________________________\n",
            "Layer (type)                 Output Shape              Param #   \n",
            "=================================================================\n",
            "conv2d (Conv2D)              (None, 128, 128, 32)      896       \n",
            "_________________________________________________________________\n",
            "activation (Activation)      (None, 128, 128, 32)      0         \n",
            "_________________________________________________________________\n",
            "max_pooling2d (MaxPooling2D) (None, 64, 64, 32)        0         \n",
            "_________________________________________________________________\n",
            "dropout (Dropout)            (None, 64, 64, 32)        0         \n",
            "_________________________________________________________________\n",
            "conv2d_1 (Conv2D)            (None, 64, 64, 64)        18496     \n",
            "_________________________________________________________________\n",
            "activation_1 (Activation)    (None, 64, 64, 64)        0         \n",
            "_________________________________________________________________\n",
            "conv2d_2 (Conv2D)            (None, 21, 21, 64)        36928     \n",
            "_________________________________________________________________\n",
            "max_pooling2d_1 (MaxPooling2 (None, 10, 10, 64)        0         \n",
            "_________________________________________________________________\n",
            "dropout_1 (Dropout)          (None, 10, 10, 64)        0         \n",
            "_________________________________________________________________\n",
            "flatten (Flatten)            (None, 6400)              0         \n",
            "_________________________________________________________________\n",
            "dense (Dense)                (None, 512)               3277312   \n",
            "_________________________________________________________________\n",
            "activation_2 (Activation)    (None, 512)               0         \n",
            "_________________________________________________________________\n",
            "dropout_2 (Dropout)          (None, 512)               0         \n",
            "_________________________________________________________________\n",
            "dense_1 (Dense)              (None, 25)                12825     \n",
            "_________________________________________________________________\n",
            "activation_3 (Activation)    (None, 25)                0         \n",
            "=================================================================\n",
            "Total params: 3,346,457\n",
            "Trainable params: 3,346,457\n",
            "Non-trainable params: 0\n",
            "_________________________________________________________________\n"
          ],
          "name": "stdout"
        }
      ]
    },
    {
      "cell_type": "code",
      "metadata": {
        "colab": {
          "base_uri": "https://localhost:8080/",
          "height": 573
        },
        "id": "6srhKpoLDUAi",
        "outputId": "a60642bc-219e-4c2a-d69f-76bd835df56a"
      },
      "source": [
        "import matplotlib.pyplot as plt\n",
        "\n",
        "plt.plot(results.history['accuracy'])\n",
        "plt.plot(results.history['val_accuracy'])\n",
        "plt.title('model accuracy')\n",
        "plt.ylabel('accuracy')\n",
        "plt.xlabel('epoch')\n",
        "plt.legend(['train', 'test'], loc='upper left')\n",
        "plt.show()\n",
        "# summarize history for loss\n",
        "plt.plot(results.history['loss'])\n",
        "plt.plot(results.history['val_loss'])\n",
        "plt.title('model loss')\n",
        "plt.ylabel('loss')\n",
        "plt.xlabel('epoch')\n",
        "plt.legend(['train', 'test'], loc='upper left')\n",
        "plt.show()"
      ],
      "execution_count": 9,
      "outputs": [
        {
          "output_type": "display_data",
          "data": {
            "image/png": "[encoded data removed]",
            "text/plain": [
              "<Figure size 432x288 with 1 Axes>"
            ]
          },
          "metadata": {
            "tags": [],
            "needs_background": "light"
          }
        },
        {
          "output_type": "display_data",
          "data": {
            "image/png": "[encoded data removed]",
            "text/plain": [
              "<Figure size 432x288 with 1 Axes>"
            ]
          },
          "metadata": {
            "tags": [],
            "needs_background": "light"
          }
        }
      ]
    },
    {
      "cell_type": "code",
      "metadata": {
        "id": "vfKEM23QDe9U"
      },
      "source": [
        "model.save(\"my_model\")"
      ],
      "execution_count": null,
      "outputs": []
    }
  ]
}